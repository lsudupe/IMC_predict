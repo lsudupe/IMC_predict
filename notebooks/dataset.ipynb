{
 "cells": [
  {
   "cell_type": "code",
   "execution_count": 1,
   "outputs": [],
   "source": [
    "import torch\n",
    "import pickle\n",
    "import pandas as pd\n",
    "from torch_geometric.data import Data, DataLoader\n",
    "from sklearn.model_selection import train_test_split\n",
    "import networkx as nx\n",
    "\n",
    "# Cargar los grafos\n",
    "with open('/Users/medinils/Desktop/IMC_Spatial_predictions/graph/graphs_dic_batched.pkl', 'rb') as f:\n",
    "    patient_graphs = pickle.load(f)\n",
    "\n",
    "# Cargar los datos clínicos\n",
    "clinical_data = pd.read_csv(\"/Users/medinils/Desktop/IMC_Spatial_predictions/data/raw_data/METABRIC_IMC/metabric_clinical_data.tsv\", sep='\\t')\n",
    "\n",
    "# Limpiar los datos eliminando filas con NaN en 'Cellularity'\n",
    "clinical_data = clinical_data.dropna(subset=['Cellularity'])\n",
    "\n"
   ],
   "metadata": {
    "collapsed": false,
    "ExecuteTime": {
     "end_time": "2024-06-26T06:32:17.797766Z",
     "start_time": "2024-06-26T06:30:54.033502Z"
    }
   },
   "id": "dabdff1d2bd6151e"
  },
  {
   "cell_type": "code",
   "execution_count": 2,
   "outputs": [
    {
     "data": {
      "text/plain": "{'MB-0000': <networkx.classes.graph.Graph at 0x12135f150>,\n 'MB-0002': <networkx.classes.graph.Graph at 0x129676950>,\n 'MB-0005': <networkx.classes.graph.Graph at 0x1303cc050>,\n 'MB-0010': <networkx.classes.graph.Graph at 0x1320d4110>,\n 'MB-0014': <networkx.classes.graph.Graph at 0x138160490>,\n 'MB-0020': <networkx.classes.graph.Graph at 0x13c1b27d0>,\n 'MB-0022': <networkx.classes.graph.Graph at 0x13c1e3b10>,\n 'MB-0028': <networkx.classes.graph.Graph at 0x13c7a5c50>,\n 'MB-0035': <networkx.classes.graph.Graph at 0x13eb2c450>,\n 'MB-0045': <networkx.classes.graph.Graph at 0x13fe54710>,\n 'MB-0050': <networkx.classes.graph.Graph at 0x1436c10d0>,\n 'MB-0060': <networkx.classes.graph.Graph at 0x14541b090>,\n 'MB-0064': <networkx.classes.graph.Graph at 0x15e181290>,\n 'MB-0081': <networkx.classes.graph.Graph at 0x1670f8a90>,\n 'MB-0095': <networkx.classes.graph.Graph at 0x178d81310>,\n 'MB-0099': <networkx.classes.graph.Graph at 0x17d0ca410>,\n 'MB-0107': <networkx.classes.graph.Graph at 0x17e582250>,\n 'MB-0109': <networkx.classes.graph.Graph at 0x18047e390>,\n 'MB-0111': <networkx.classes.graph.Graph at 0x185c2ad50>,\n 'MB-0112': <networkx.classes.graph.Graph at 0x1883e1c90>,\n 'MB-0114': <networkx.classes.graph.Graph at 0x1886bdc90>,\n 'MB-0115': <networkx.classes.graph.Graph at 0x1891639d0>,\n 'MB-0116': <networkx.classes.graph.Graph at 0x18b830dd0>,\n 'MB-0117': <networkx.classes.graph.Graph at 0x18fc29a90>,\n 'MB-0119': <networkx.classes.graph.Graph at 0x194023210>,\n 'MB-0120': <networkx.classes.graph.Graph at 0x198b560d0>,\n 'MB-0121': <networkx.classes.graph.Graph at 0x1999c3310>,\n 'MB-0122': <networkx.classes.graph.Graph at 0x19a60b8d0>,\n 'MB-0123': <networkx.classes.graph.Graph at 0x19bb5f390>,\n 'MB-0124': <networkx.classes.graph.Graph at 0x19fa94190>,\n 'MB-0126': <networkx.classes.graph.Graph at 0x1a1bdf210>,\n 'MB-0127': <networkx.classes.graph.Graph at 0x1a4d6cad0>,\n 'MB-0128': <networkx.classes.graph.Graph at 0x1a4def290>,\n 'MB-0130': <networkx.classes.graph.Graph at 0x1a6706f90>,\n 'MB-0131': <networkx.classes.graph.Graph at 0x1a7689490>,\n 'MB-0133': <networkx.classes.graph.Graph at 0x1acf3f350>,\n 'MB-0134': <networkx.classes.graph.Graph at 0x1acf3fdd0>,\n 'MB-0135': <networkx.classes.graph.Graph at 0x1b3443490>,\n 'MB-0136': <networkx.classes.graph.Graph at 0x1b8068b90>,\n 'MB-0138': <networkx.classes.graph.Graph at 0x1bc9bc250>,\n 'MB-0139': <networkx.classes.graph.Graph at 0x1bd5268d0>,\n 'MB-0140': <networkx.classes.graph.Graph at 0x1bd77c490>,\n 'MB-0142': <networkx.classes.graph.Graph at 0x1c2ab36d0>,\n 'MB-0143': <networkx.classes.graph.Graph at 0x1c367ff10>,\n 'MB-0144': <networkx.classes.graph.Graph at 0x1c71c3cd0>,\n 'MB-0145': <networkx.classes.graph.Graph at 0x1c870b850>,\n 'MB-0150': <networkx.classes.graph.Graph at 0x1ca3fed10>,\n 'MB-0151': <networkx.classes.graph.Graph at 0x1cccf4110>,\n 'MB-0152': <networkx.classes.graph.Graph at 0x1cf854790>,\n 'MB-0153': <networkx.classes.graph.Graph at 0x1cf86df10>,\n 'MB-0154': <networkx.classes.graph.Graph at 0x1d0c4f690>,\n 'MB-0158': <networkx.classes.graph.Graph at 0x1d1322250>,\n 'MB-0162': <networkx.classes.graph.Graph at 0x1d15dda90>,\n 'MB-0163': <networkx.classes.graph.Graph at 0x1d15edb10>,\n 'MB-0164': <networkx.classes.graph.Graph at 0x1d6128dd0>,\n 'MB-0165': <networkx.classes.graph.Graph at 0x1d62af0d0>,\n 'MB-0166': <networkx.classes.graph.Graph at 0x1d92ea0d0>,\n 'MB-0167': <networkx.classes.graph.Graph at 0x1d9615190>,\n 'MB-0168': <networkx.classes.graph.Graph at 0x1de9c0ad0>,\n 'MB-0169': <networkx.classes.graph.Graph at 0x1df6f3a50>,\n 'MB-0170': <networkx.classes.graph.Graph at 0x1df80c190>,\n 'MB-0173': <networkx.classes.graph.Graph at 0x1e1c51790>,\n 'MB-0174': <networkx.classes.graph.Graph at 0x1e1c80610>,\n 'MB-0175': <networkx.classes.graph.Graph at 0x1e3107450>,\n 'MB-0176': <networkx.classes.graph.Graph at 0x1e4597250>,\n 'MB-0177': <networkx.classes.graph.Graph at 0x1e6882e50>,\n 'MB-0178': <networkx.classes.graph.Graph at 0x1e6ed9a90>,\n 'MB-0179': <networkx.classes.graph.Graph at 0x1e8f884d0>,\n 'MB-0180': <networkx.classes.graph.Graph at 0x1ecf57950>,\n 'MB-0181': <networkx.classes.graph.Graph at 0x1eff7b7d0>,\n 'MB-0184': <networkx.classes.graph.Graph at 0x1f3ff3290>,\n 'MB-0185': <networkx.classes.graph.Graph at 0x2072ce450>,\n 'MB-0188': <networkx.classes.graph.Graph at 0x20874c050>,\n 'MB-0189': <networkx.classes.graph.Graph at 0x20a3e9050>,\n 'MB-0191': <networkx.classes.graph.Graph at 0x20b2e6050>,\n 'MB-0192': <networkx.classes.graph.Graph at 0x21006ce10>,\n 'MB-0193': <networkx.classes.graph.Graph at 0x210b4fbd0>,\n 'MB-0194': <networkx.classes.graph.Graph at 0x210be8290>,\n 'MB-0195': <networkx.classes.graph.Graph at 0x213219450>,\n 'MB-0197': <networkx.classes.graph.Graph at 0x217131410>,\n 'MB-0198': <networkx.classes.graph.Graph at 0x217195fd0>,\n 'MB-0199': <networkx.classes.graph.Graph at 0x21ab28710>,\n 'MB-0200': <networkx.classes.graph.Graph at 0x21dc556d0>,\n 'MB-0201': <networkx.classes.graph.Graph at 0x2204f22d0>,\n 'MB-0202': <networkx.classes.graph.Graph at 0x22093cd50>,\n 'MB-0203': <networkx.classes.graph.Graph at 0x22339a610>,\n 'MB-0204': <networkx.classes.graph.Graph at 0x22a45df90>,\n 'MB-0205': <networkx.classes.graph.Graph at 0x22a4bccd0>,\n 'MB-0206': <networkx.classes.graph.Graph at 0x22a6a5590>,\n 'MB-0214': <networkx.classes.graph.Graph at 0x22de55590>,\n 'MB-0218': <networkx.classes.graph.Graph at 0x22decd890>,\n 'MB-0220': <networkx.classes.graph.Graph at 0x22fbb63d0>,\n 'MB-0221': <networkx.classes.graph.Graph at 0x2300af510>,\n 'MB-0222': <networkx.classes.graph.Graph at 0x23869d890>,\n 'MB-0223': <networkx.classes.graph.Graph at 0x23a835b90>,\n 'MB-0224': <networkx.classes.graph.Graph at 0x23b1c2810>,\n 'MB-0225': <networkx.classes.graph.Graph at 0x23b687dd0>,\n 'MB-0227': <networkx.classes.graph.Graph at 0x23ceeea50>,\n 'MB-0228': <networkx.classes.graph.Graph at 0x24114b310>,\n 'MB-0231': <networkx.classes.graph.Graph at 0x24114bd10>,\n 'MB-0232': <networkx.classes.graph.Graph at 0x2413f90d0>,\n 'MB-0233': <networkx.classes.graph.Graph at 0x2426022d0>,\n 'MB-0235': <networkx.classes.graph.Graph at 0x242743c50>,\n 'MB-0236': <networkx.classes.graph.Graph at 0x246a49750>,\n 'MB-0238': <networkx.classes.graph.Graph at 0x247b40250>,\n 'MB-0239': <networkx.classes.graph.Graph at 0x24d7dcfd0>,\n 'MB-0241': <networkx.classes.graph.Graph at 0x24dd01b90>,\n 'MB-0242': <networkx.classes.graph.Graph at 0x24e07d7d0>,\n 'MB-0243': <networkx.classes.graph.Graph at 0x24e0e2390>,\n 'MB-0244': <networkx.classes.graph.Graph at 0x251bb0850>,\n 'MB-0245': <networkx.classes.graph.Graph at 0x251bf4890>,\n 'MB-0248': <networkx.classes.graph.Graph at 0x25527c250>,\n 'MB-0249': <networkx.classes.graph.Graph at 0x2567b6f90>,\n 'MB-0256': <networkx.classes.graph.Graph at 0x2569e3f10>,\n 'MB-0258': <networkx.classes.graph.Graph at 0x25770f810>,\n 'MB-0259': <networkx.classes.graph.Graph at 0x2579f2650>,\n 'MB-0260': <networkx.classes.graph.Graph at 0x2585583d0>,\n 'MB-0262': <networkx.classes.graph.Graph at 0x259cd0f90>,\n 'MB-0263': <networkx.classes.graph.Graph at 0x25cba3510>,\n 'MB-0264': <networkx.classes.graph.Graph at 0x25d5dbdd0>,\n 'MB-0265': <networkx.classes.graph.Graph at 0x25dafac10>,\n 'MB-0268': <networkx.classes.graph.Graph at 0x25dafb310>,\n 'MB-0269': <networkx.classes.graph.Graph at 0x25e02fc10>,\n 'MB-0270': <networkx.classes.graph.Graph at 0x25f8a6990>,\n 'MB-0272': <networkx.classes.graph.Graph at 0x2617cf510>,\n 'MB-0273': <networkx.classes.graph.Graph at 0x2652c2fd0>,\n 'MB-0275': <networkx.classes.graph.Graph at 0x2652e85d0>,\n 'MB-0278': <networkx.classes.graph.Graph at 0x2654ecad0>,\n 'MB-0279': <networkx.classes.graph.Graph at 0x266307750>,\n 'MB-0280': <networkx.classes.graph.Graph at 0x2698f6b90>,\n 'MB-0282': <networkx.classes.graph.Graph at 0x269d406d0>,\n 'MB-0283': <networkx.classes.graph.Graph at 0x269f8a010>,\n 'MB-0285': <networkx.classes.graph.Graph at 0x271bec650>,\n 'MB-0286': <networkx.classes.graph.Graph at 0x275e82090>,\n 'MB-0287': <networkx.classes.graph.Graph at 0x275f3dd50>,\n 'MB-0288': <networkx.classes.graph.Graph at 0x276d85590>,\n 'MB-0289': <networkx.classes.graph.Graph at 0x276dd3890>,\n 'MB-0290': <networkx.classes.graph.Graph at 0x277e583d0>,\n 'MB-0291': <networkx.classes.graph.Graph at 0x278587350>,\n 'MB-0292': <networkx.classes.graph.Graph at 0x27c53b9d0>,\n 'MB-0294': <networkx.classes.graph.Graph at 0x27d75fb10>,\n 'MB-0301': <networkx.classes.graph.Graph at 0x27dbf3990>,\n 'MB-0302': <networkx.classes.graph.Graph at 0x280e4f250>,\n 'MB-0304': <networkx.classes.graph.Graph at 0x280e7da10>,\n 'MB-0305': <networkx.classes.graph.Graph at 0x28565b0d0>,\n 'MB-0307': <networkx.classes.graph.Graph at 0x28a693410>,\n 'MB-0308': <networkx.classes.graph.Graph at 0x28d500f10>,\n 'MB-0309': <networkx.classes.graph.Graph at 0x28f847510>,\n 'MB-0311': <networkx.classes.graph.Graph at 0x290dc69d0>,\n 'MB-0312': <networkx.classes.graph.Graph at 0x291036410>,\n 'MB-0314': <networkx.classes.graph.Graph at 0x29742a390>,\n 'MB-0316': <networkx.classes.graph.Graph at 0x29c5f1550>,\n 'MB-0318': <networkx.classes.graph.Graph at 0x29dae8450>,\n 'MB-0319': <networkx.classes.graph.Graph at 0x2a2db0490>,\n 'MB-0320': <networkx.classes.graph.Graph at 0x2a575f390>,\n 'MB-0321': <networkx.classes.graph.Graph at 0x2a6395910>,\n 'MB-0322': <networkx.classes.graph.Graph at 0x2ad110550>,\n 'MB-0324': <networkx.classes.graph.Graph at 0x2b3057790>,\n 'MB-0325': <networkx.classes.graph.Graph at 0x2b60c4a10>,\n 'MB-0333': <networkx.classes.graph.Graph at 0x2b8374610>,\n 'MB-0336': <networkx.classes.graph.Graph at 0x2baa5c690>,\n 'MB-0339': <networkx.classes.graph.Graph at 0x2bbaebdd0>,\n 'MB-0340': <networkx.classes.graph.Graph at 0x2be637050>,\n 'MB-0342': <networkx.classes.graph.Graph at 0x2c6bc0450>,\n 'MB-0343': <networkx.classes.graph.Graph at 0x2c6ce2cd0>,\n 'MB-0344': <networkx.classes.graph.Graph at 0x2c946d910>,\n 'MB-0345': <networkx.classes.graph.Graph at 0x2c9a14d50>,\n 'MB-0347': <networkx.classes.graph.Graph at 0x2ca8f1f90>,\n 'MB-0348': <networkx.classes.graph.Graph at 0x2cce5e4d0>,\n 'MB-0349': <networkx.classes.graph.Graph at 0x2d1920050>,\n 'MB-0350': <networkx.classes.graph.Graph at 0x2d1f970d0>,\n 'MB-0351': <networkx.classes.graph.Graph at 0x2d31d2c10>,\n 'MB-0353': <networkx.classes.graph.Graph at 0x2d3f09610>,\n 'MB-0354': <networkx.classes.graph.Graph at 0x2d4d03810>,\n 'MB-0356': <networkx.classes.graph.Graph at 0x2d4fa6910>,\n 'MB-0359': <networkx.classes.graph.Graph at 0x2d5287b10>,\n 'MB-0360': <networkx.classes.graph.Graph at 0x2d5c50ed0>,\n 'MB-0361': <networkx.classes.graph.Graph at 0x2d8de8cd0>,\n 'MB-0362': <networkx.classes.graph.Graph at 0x2d977e310>,\n 'MB-0363': <networkx.classes.graph.Graph at 0x2da4f7d90>,\n 'MB-0364': <networkx.classes.graph.Graph at 0x2e20a52d0>,\n 'MB-0365': <networkx.classes.graph.Graph at 0x2e22ed890>,\n 'MB-0366': <networkx.classes.graph.Graph at 0x2e22fdd90>,\n 'MB-0367': <networkx.classes.graph.Graph at 0x2e69b9d10>,\n 'MB-0369': <networkx.classes.graph.Graph at 0x2e761cb10>,\n 'MB-0370': <networkx.classes.graph.Graph at 0x2ec9260d0>,\n 'MB-0374': <networkx.classes.graph.Graph at 0x2ece024d0>,\n 'MB-0375': <networkx.classes.graph.Graph at 0x2ece02810>,\n 'MB-0377': <networkx.classes.graph.Graph at 0x2f13867d0>,\n 'MB-0378': <networkx.classes.graph.Graph at 0x2f2c38390>,\n 'MB-0379': <networkx.classes.graph.Graph at 0x2f311d490>,\n 'MB-0380': <networkx.classes.graph.Graph at 0x2f5dd3350>,\n 'MB-0381': <networkx.classes.graph.Graph at 0x2f8b6ebd0>,\n 'MB-0382': <networkx.classes.graph.Graph at 0x2fb5a9a90>,\n 'MB-0383': <networkx.classes.graph.Graph at 0x2fb746c50>,\n 'MB-0384': <networkx.classes.graph.Graph at 0x2fc28aa90>,\n 'MB-0385': <networkx.classes.graph.Graph at 0x2fe9edb90>,\n 'MB-0386': <networkx.classes.graph.Graph at 0x300d10690>,\n 'MB-0388': <networkx.classes.graph.Graph at 0x300e17e90>,\n 'MB-0389': <networkx.classes.graph.Graph at 0x301908850>,\n 'MB-0390': <networkx.classes.graph.Graph at 0x305b62b10>,\n 'MB-0391': <networkx.classes.graph.Graph at 0x306b5fb10>,\n 'MB-0392': <networkx.classes.graph.Graph at 0x307e5e250>,\n 'MB-0393': <networkx.classes.graph.Graph at 0x307ea14d0>,\n 'MB-0394': <networkx.classes.graph.Graph at 0x30a316e50>,\n 'MB-0395': <networkx.classes.graph.Graph at 0x313ce4910>,\n 'MB-0396': <networkx.classes.graph.Graph at 0x3147b62d0>,\n 'MB-0397': <networkx.classes.graph.Graph at 0x317d130d0>,\n 'MB-0398': <networkx.classes.graph.Graph at 0x31b25ced0>,\n 'MB-0399': <networkx.classes.graph.Graph at 0x31bb47750>,\n 'MB-0400': <networkx.classes.graph.Graph at 0x31c77f450>,\n 'MB-0401': <networkx.classes.graph.Graph at 0x31e911410>,\n 'MB-0404': <networkx.classes.graph.Graph at 0x31fd7dad0>,\n 'MB-0405': <networkx.classes.graph.Graph at 0x3202974d0>,\n 'MB-0406': <networkx.classes.graph.Graph at 0x322e4a890>,\n 'MB-0408': <networkx.classes.graph.Graph at 0x322f3dd90>,\n 'MB-0410': <networkx.classes.graph.Graph at 0x324f92950>,\n 'MB-0411': <networkx.classes.graph.Graph at 0x3273c8310>,\n 'MB-0412': <networkx.classes.graph.Graph at 0x3299f9050>,\n 'MB-0413': <networkx.classes.graph.Graph at 0x32a8a1b50>,\n 'MB-0414': <networkx.classes.graph.Graph at 0x331951410>,\n 'MB-0417': <networkx.classes.graph.Graph at 0x337c52010>,\n 'MB-0418': <networkx.classes.graph.Graph at 0x339740a50>,\n 'MB-0419': <networkx.classes.graph.Graph at 0x33a354110>,\n 'MB-0420': <networkx.classes.graph.Graph at 0x33d3be650>,\n 'MB-0421': <networkx.classes.graph.Graph at 0x33d79ea50>,\n 'MB-0422': <networkx.classes.graph.Graph at 0x33e2fc850>,\n 'MB-0423': <networkx.classes.graph.Graph at 0x33f35a390>,\n 'MB-0425': <networkx.classes.graph.Graph at 0x34001e750>,\n 'MB-0426': <networkx.classes.graph.Graph at 0x345795350>,\n 'MB-0427': <networkx.classes.graph.Graph at 0x349370150>,\n 'MB-0429': <networkx.classes.graph.Graph at 0x34a27da10>,\n 'MB-0431': <networkx.classes.graph.Graph at 0x3512d9b50>,\n 'MB-0432': <networkx.classes.graph.Graph at 0x3517f9a50>,\n 'MB-0434': <networkx.classes.graph.Graph at 0x35191e150>,\n 'MB-0438': <networkx.classes.graph.Graph at 0x354989950>,\n 'MB-0439': <networkx.classes.graph.Graph at 0x3558bfd50>,\n 'MB-0440': <networkx.classes.graph.Graph at 0x35938a050>,\n 'MB-0442': <networkx.classes.graph.Graph at 0x359ffbb10>,\n 'MB-0443': <networkx.classes.graph.Graph at 0x35dae5b90>,\n 'MB-0444': <networkx.classes.graph.Graph at 0x35ef54090>,\n 'MB-0445': <networkx.classes.graph.Graph at 0x35f3028d0>,\n 'MB-0446': <networkx.classes.graph.Graph at 0x3635187d0>,\n 'MB-0448': <networkx.classes.graph.Graph at 0x36516f090>,\n 'MB-0449': <networkx.classes.graph.Graph at 0x36620c810>,\n 'MB-0451': <networkx.classes.graph.Graph at 0x367879910>,\n 'MB-0453': <networkx.classes.graph.Graph at 0x3688f6fd0>,\n 'MB-0454': <networkx.classes.graph.Graph at 0x3699ca150>,\n 'MB-0455': <networkx.classes.graph.Graph at 0x36cf316d0>,\n 'MB-0458': <networkx.classes.graph.Graph at 0x371291490>,\n 'MB-0459': <networkx.classes.graph.Graph at 0x3714ba0d0>,\n 'MB-0460': <networkx.classes.graph.Graph at 0x37459fa50>,\n 'MB-0462': <networkx.classes.graph.Graph at 0x374625210>,\n 'MB-0463': <networkx.classes.graph.Graph at 0x37479d250>,\n 'MB-0464': <networkx.classes.graph.Graph at 0x3791fea10>,\n 'MB-0465': <networkx.classes.graph.Graph at 0x37922dad0>,\n 'MB-0467': <networkx.classes.graph.Graph at 0x37e5f04d0>,\n 'MB-0468': <networkx.classes.graph.Graph at 0x37f4dff90>,\n 'MB-0469': <networkx.classes.graph.Graph at 0x37f613390>,\n 'MB-0470': <networkx.classes.graph.Graph at 0x3810fa210>,\n 'MB-0474': <networkx.classes.graph.Graph at 0x382aefad0>,\n 'MB-0475': <networkx.classes.graph.Graph at 0x387261810>,\n 'MB-0476': <networkx.classes.graph.Graph at 0x38bfaf450>,\n 'MB-0478': <networkx.classes.graph.Graph at 0x38e568510>,\n 'MB-0479': <networkx.classes.graph.Graph at 0x38e568a90>,\n 'MB-0480': <networkx.classes.graph.Graph at 0x38e73eed0>,\n 'MB-0481': <networkx.classes.graph.Graph at 0x38ed0f4d0>,\n 'MB-0482': <networkx.classes.graph.Graph at 0x394dea690>,\n 'MB-0483': <networkx.classes.graph.Graph at 0x39641b990>,\n 'MB-0484': <networkx.classes.graph.Graph at 0x3980a6f10>,\n 'MB-0485': <networkx.classes.graph.Graph at 0x39bca9110>,\n 'MB-0486': <networkx.classes.graph.Graph at 0x39fb78150>,\n 'MB-0487': <networkx.classes.graph.Graph at 0x3a7379f50>,\n 'MB-0488': <networkx.classes.graph.Graph at 0x3a87e6c90>,\n 'MB-0490': <networkx.classes.graph.Graph at 0x3acb51010>,\n 'MB-0491': <networkx.classes.graph.Graph at 0x3b1479d50>,\n 'MB-0492': <networkx.classes.graph.Graph at 0x3b56cec10>,\n 'MB-0494': <networkx.classes.graph.Graph at 0x3b7845a90>,\n 'MB-0495': <networkx.classes.graph.Graph at 0x3bbfd4050>,\n 'MB-0496': <networkx.classes.graph.Graph at 0x3be11ae50>,\n 'MB-0500': <networkx.classes.graph.Graph at 0x3be141a90>,\n 'MB-0501': <networkx.classes.graph.Graph at 0x3beb06010>,\n 'MB-0502': <networkx.classes.graph.Graph at 0x3cc650e50>,\n 'MB-0503': <networkx.classes.graph.Graph at 0x3cf69e610>,\n 'MB-0504': <networkx.classes.graph.Graph at 0x3cfde5290>,\n 'MB-0505': <networkx.classes.graph.Graph at 0x3d0039e10>,\n 'MB-0508': <networkx.classes.graph.Graph at 0x3d01ef990>,\n 'MB-0510': <networkx.classes.graph.Graph at 0x3d2dc38d0>,\n 'MB-0511': <networkx.classes.graph.Graph at 0x3d31e8cd0>,\n 'MB-0512': <networkx.classes.graph.Graph at 0x3d3aa1050>,\n 'MB-0513': <networkx.classes.graph.Graph at 0x3d3b2f290>,\n 'MB-0516': <networkx.classes.graph.Graph at 0x3dc7cfd50>,\n 'MB-0519': <networkx.classes.graph.Graph at 0x3dee22e50>,\n 'MB-0521': <networkx.classes.graph.Graph at 0x3e0914bd0>,\n 'MB-0524': <networkx.classes.graph.Graph at 0x3e38ffed0>,\n 'MB-0525': <networkx.classes.graph.Graph at 0x3e3944850>,\n 'MB-0526': <networkx.classes.graph.Graph at 0x3e6d17790>,\n 'MB-0527': <networkx.classes.graph.Graph at 0x3eb630ad0>,\n 'MB-0528': <networkx.classes.graph.Graph at 0x3f3b33510>,\n 'MB-0529': <networkx.classes.graph.Graph at 0x3f5f77d50>,\n 'MB-0531': <networkx.classes.graph.Graph at 0x3f67eced0>,\n 'MB-0532': <networkx.classes.graph.Graph at 0x3f6dd51d0>,\n 'MB-0536': <networkx.classes.graph.Graph at 0x3f936bbd0>,\n 'MB-0537': <networkx.classes.graph.Graph at 0x3fad5c390>,\n 'MB-0538': <networkx.classes.graph.Graph at 0x3fd377350>,\n 'MB-0542': <networkx.classes.graph.Graph at 0x404cc5710>,\n 'MB-0543': <networkx.classes.graph.Graph at 0x4095c0290>,\n 'MB-0544': <networkx.classes.graph.Graph at 0x40a76b050>,\n 'MB-0545': <networkx.classes.graph.Graph at 0x40f470ed0>,\n 'MB-0547': <networkx.classes.graph.Graph at 0x40ffd4390>,\n 'MB-0549': <networkx.classes.graph.Graph at 0x410a2b310>,\n 'MB-0552': <networkx.classes.graph.Graph at 0x413ccf810>,\n 'MB-0553': <networkx.classes.graph.Graph at 0x415fa98d0>,\n 'MB-0554': <networkx.classes.graph.Graph at 0x416ac17d0>,\n 'MB-0558': <networkx.classes.graph.Graph at 0x416ae0590>,\n 'MB-0559': <networkx.classes.graph.Graph at 0x416ae2b50>,\n 'MB-0568': <networkx.classes.graph.Graph at 0x416e41650>,\n 'MB-0569': <networkx.classes.graph.Graph at 0x41938db10>,\n 'MB-0570': <networkx.classes.graph.Graph at 0x41a821210>,\n 'MB-0571': <networkx.classes.graph.Graph at 0x41fa6e890>,\n 'MB-0573': <networkx.classes.graph.Graph at 0x4202d6990>,\n 'MB-0574': <networkx.classes.graph.Graph at 0x4209eb1d0>,\n 'MB-0575': <networkx.classes.graph.Graph at 0x42420f290>,\n 'MB-0576': <networkx.classes.graph.Graph at 0x4295eacd0>,\n 'MB-0577': <networkx.classes.graph.Graph at 0x42dd79090>,\n 'MB-0578': <networkx.classes.graph.Graph at 0x42de32f50>,\n 'MB-0579': <networkx.classes.graph.Graph at 0x43209d790>,\n 'MB-0580': <networkx.classes.graph.Graph at 0x438810d10>,\n 'MB-0581': <networkx.classes.graph.Graph at 0x43d09ad50>,\n 'MB-0582': <networkx.classes.graph.Graph at 0x441133910>,\n 'MB-0583': <networkx.classes.graph.Graph at 0x44791dad0>,\n 'MB-0584': <networkx.classes.graph.Graph at 0x4503fe510>,\n 'MB-0585': <networkx.classes.graph.Graph at 0x4522f2990>,\n 'MB-0586': <networkx.classes.graph.Graph at 0x452d2abd0>,\n 'MB-0587': <networkx.classes.graph.Graph at 0x458816e10>,\n 'MB-0588': <networkx.classes.graph.Graph at 0x458830590>,\n 'MB-0589': <networkx.classes.graph.Graph at 0x45bc23890>,\n 'MB-0590': <networkx.classes.graph.Graph at 0x45f8b0250>,\n 'MB-0591': <networkx.classes.graph.Graph at 0x460254f50>,\n 'MB-0593': <networkx.classes.graph.Graph at 0x4619b5ad0>,\n 'MB-0594': <networkx.classes.graph.Graph at 0x461bfa310>,\n 'MB-0596': <networkx.classes.graph.Graph at 0x465a58410>,\n 'MB-0597': <networkx.classes.graph.Graph at 0x46a8c69d0>,\n 'MB-0598': <networkx.classes.graph.Graph at 0x46bcb7510>,\n 'MB-0599': <networkx.classes.graph.Graph at 0x46df697d0>,\n 'MB-0600': <networkx.classes.graph.Graph at 0x472891710>,\n 'MB-0601': <networkx.classes.graph.Graph at 0x477526b90>,\n 'MB-0603': <networkx.classes.graph.Graph at 0x478515a90>,\n 'MB-0605': <networkx.classes.graph.Graph at 0x47920bd50>,\n 'MB-0607': <networkx.classes.graph.Graph at 0x479fe2010>,\n 'MB-0608': <networkx.classes.graph.Graph at 0x47e373d50>,\n 'MB-0609': <networkx.classes.graph.Graph at 0x483775150>,\n 'MB-0610': <networkx.classes.graph.Graph at 0x48e506d90>,\n 'MB-0611': <networkx.classes.graph.Graph at 0x4916c8710>,\n 'MB-0613': <networkx.classes.graph.Graph at 0x4918d9dd0>,\n 'MB-0614': <networkx.classes.graph.Graph at 0x493fd2b50>,\n 'MB-0616': <networkx.classes.graph.Graph at 0x494ad9610>,\n 'MB-0618': <networkx.classes.graph.Graph at 0x4951e9fd0>,\n 'MB-0620': <networkx.classes.graph.Graph at 0x4951eb050>,\n 'MB-0621': <networkx.classes.graph.Graph at 0x49936a950>,\n 'MB-0623': <networkx.classes.graph.Graph at 0x49ca6d110>,\n 'MB-0624': <networkx.classes.graph.Graph at 0x49cb7ae90>,\n 'MB-0626': <networkx.classes.graph.Graph at 0x49cc56410>,\n 'MB-0628': <networkx.classes.graph.Graph at 0x4a0292c90>,\n 'MB-0630': <networkx.classes.graph.Graph at 0x4a54435d0>,\n 'MB-0631': <networkx.classes.graph.Graph at 0x4a5469bd0>,\n 'MB-0634': <networkx.classes.graph.Graph at 0x4a5eba010>,\n 'MB-0635': <networkx.classes.graph.Graph at 0x4a5ebbc50>,\n 'MB-0636': <networkx.classes.graph.Graph at 0x4a6e27c50>,\n 'MB-0637': <networkx.classes.graph.Graph at 0x4a71424d0>,\n 'MB-0638': <networkx.classes.graph.Graph at 0x4a982ec90>,\n 'MB-0641': <networkx.classes.graph.Graph at 0x4a99bf650>,\n 'MB-0642': <networkx.classes.graph.Graph at 0x4aa643d10>,\n 'MB-0643': <networkx.classes.graph.Graph at 0x4adf99f10>,\n 'MB-0644': <networkx.classes.graph.Graph at 0x4b031ea90>,\n 'MB-0646': <networkx.classes.graph.Graph at 0x4b3aa2350>,\n 'MB-0650': <networkx.classes.graph.Graph at 0x4b829b590>,\n 'MB-0652': <networkx.classes.graph.Graph at 0x4b9f22b10>,\n 'MB-0653': <networkx.classes.graph.Graph at 0x4ba9f4b50>,\n 'MB-0654': <networkx.classes.graph.Graph at 0x4bc1aa950>,\n 'MB-0657': <networkx.classes.graph.Graph at 0x4bc1c5a10>,\n 'MB-0658': <networkx.classes.graph.Graph at 0x4bcc19f90>,\n 'MB-0659': <networkx.classes.graph.Graph at 0x4bcf4b350>,\n 'MB-0660': <networkx.classes.graph.Graph at 0x4bd7a3350>,\n 'MB-0661': <networkx.classes.graph.Graph at 0x4bf26a810>,\n 'MB-0662': <networkx.classes.graph.Graph at 0x4c4157650>,\n 'MB-0663': <networkx.classes.graph.Graph at 0x4c8004750>,\n 'MB-0664': <networkx.classes.graph.Graph at 0x4c83a5ed0>,\n 'MB-0666': <networkx.classes.graph.Graph at 0x4cc2cbf50>,\n 'MB-0869': <networkx.classes.graph.Graph at 0x4ce0a4790>,\n 'MB-0872': <networkx.classes.graph.Graph at 0x4d3edd4d0>,\n 'MB-0874': <networkx.classes.graph.Graph at 0x4d411c550>,\n 'MB-0877': <networkx.classes.graph.Graph at 0x4d4af8790>,\n 'MB-0880': <networkx.classes.graph.Graph at 0x4d7cd9ed0>,\n 'MB-0882': <networkx.classes.graph.Graph at 0x4d7cdb790>,\n 'MB-0884': <networkx.classes.graph.Graph at 0x4db85d790>,\n 'MB-0891': <networkx.classes.graph.Graph at 0x4dd868dd0>,\n 'MB-0893': <networkx.classes.graph.Graph at 0x4ddcbf590>,\n 'MB-0895': <networkx.classes.graph.Graph at 0x4e16c1750>,\n 'MB-0897': <networkx.classes.graph.Graph at 0x4e184a150>,\n 'MB-0899': <networkx.classes.graph.Graph at 0x4e2a38690>,\n 'MB-0901': <networkx.classes.graph.Graph at 0x4e4900b10>,\n 'MB-0904': <networkx.classes.graph.Graph at 0x4e9560c50>,\n 'MB-0906': <networkx.classes.graph.Graph at 0x4ea031a90>}"
     },
     "execution_count": 2,
     "metadata": {},
     "output_type": "execute_result"
    }
   ],
   "source": [
    "patient_graphs"
   ],
   "metadata": {
    "collapsed": false,
    "ExecuteTime": {
     "end_time": "2024-06-26T06:32:17.819274Z",
     "start_time": "2024-06-26T06:32:17.814621Z"
    }
   },
   "id": "96d926d77dcbf0da"
  },
  {
   "cell_type": "code",
   "execution_count": 3,
   "outputs": [],
   "source": [
    "# Convertir las etiquetas categóricas de cellularity a índices numéricos\n",
    "clinical_data['Cellularity'], _ = pd.factorize(clinical_data['Cellularity'])"
   ],
   "metadata": {
    "collapsed": false,
    "ExecuteTime": {
     "end_time": "2024-06-26T06:32:17.864280Z",
     "start_time": "2024-06-26T06:32:17.822722Z"
    }
   },
   "id": "730f6959653a6e2d"
  },
  {
   "cell_type": "code",
   "execution_count": 4,
   "outputs": [],
   "source": [
    "import random\n",
    "\n",
    "# Seleccionar aleatoriamente 20 IDs de paciente que estén tanto en los grafos como en los datos clínicos\n",
    "sampled_patient_ids = random.sample(list(set(patient_graphs.keys()).intersection(clinical_data['Patient ID'])), 10)\n",
    "\n",
    "# Crear un subconjunto de datos clínicos para los pacientes seleccionados\n",
    "sampled_clinical_data = clinical_data[clinical_data['Patient ID'].isin(sampled_patient_ids)]"
   ],
   "metadata": {
    "collapsed": false,
    "ExecuteTime": {
     "end_time": "2024-06-26T06:32:17.876658Z",
     "start_time": "2024-06-26T06:32:17.833389Z"
    }
   },
   "id": "6b42282071e83fbd"
  },
  {
   "cell_type": "code",
   "execution_count": 18,
   "outputs": [],
   "source": [
    "# Crear un diccionario de Patient ID a Cellularity\n",
    "cellularity_labels = clinical_data.set_index('Patient ID')['Cellularity'].to_dict()\n",
    "\n",
    "# Añadir cellularity como atributo 'label' en cada grafo\n",
    "for patient_id, graph in patient_graphs.items():\n",
    "    # Asignar el label de cellularity al grafo\n",
    "    if patient_id in cellularity_labels:\n",
    "        graph.graph['label'] = cellularity_labels[patient_id]\n",
    "    else:\n",
    "        graph.graph['label'] = None  # O asignar un valor default o manejar de alguna otra forma si no se encuentra el ID\n",
    "\n",
    "# Ahora cada grafo en patient_graphs tiene un atributo 'label' con su cellularity correspondiente\n"
   ],
   "metadata": {
    "collapsed": false,
    "ExecuteTime": {
     "end_time": "2024-06-26T06:39:22.167848Z",
     "start_time": "2024-06-26T06:39:22.149580Z"
    }
   },
   "id": "c7b01cfc946fc808"
  },
  {
   "cell_type": "code",
   "execution_count": 19,
   "outputs": [],
   "source": [
    "from torch_geometric.utils import from_networkx\n",
    "import torch\n",
    "\n",
    "data_list = []\n",
    "for patient_id, graph in patient_graphs.items():\n",
    "    # Convertir el grafo, asegurándonos de incluir las características 'CD68', 'CD3', y 'CD20'\n",
    "    data = from_networkx(graph, group_node_attrs=['CD68', 'CD3', 'CD20'])\n",
    "\n",
    "    # Establecer el label del grafo si existe, de lo contrario usar un valor default\n",
    "    if graph.graph['label'] is not None:\n",
    "        data.y = torch.tensor([graph.graph['label']], dtype=torch.long)\n",
    "    else:\n",
    "        data.y = torch.tensor([0], dtype=torch.long)  # Asumiendo 0 como valor default para cellularity si no está definido\n",
    "    \n",
    "    data_list.append(data)\n",
    "\n",
    "# data_list ahora contiene los objetos Data de PyTorch Geometric con las características y labels apropiados.\n"
   ],
   "metadata": {
    "collapsed": false,
    "ExecuteTime": {
     "end_time": "2024-06-26T06:57:52.518073Z",
     "start_time": "2024-06-26T06:39:45.183629Z"
    }
   },
   "id": "10428c66c392f9a4"
  },
  {
   "cell_type": "code",
   "execution_count": 21,
   "outputs": [
    {
     "name": "stdout",
     "output_type": "stream",
     "text": [
      "data_list ha sido guardado exitosamente.\n"
     ]
    }
   ],
   "source": [
    "#guardar lista\n",
    "import pickle\n",
    "\n",
    "# Guardar data_list en un archivo\n",
    "with open('/Users/medinils/Desktop/IMC_Spatial_predictions/graph/data_list.pkl', 'wb') as f:\n",
    "    pickle.dump(data_list, f)\n",
    "\n",
    "print(\"data_list ha sido guardado exitosamente.\")\n"
   ],
   "metadata": {
    "collapsed": false,
    "ExecuteTime": {
     "end_time": "2024-06-26T07:02:10.480588Z",
     "start_time": "2024-06-26T07:02:04.287688Z"
    }
   },
   "id": "afb7942f9e6b2803"
  },
  {
   "cell_type": "code",
   "execution_count": 20,
   "outputs": [
    {
     "name": "stdout",
     "output_type": "stream",
     "text": [
      "El label de cellularity para el paciente MB-0893 es: 1\n"
     ]
    }
   ],
   "source": [
    "# Obtener el grafo del paciente MB-0893\n",
    "patient_graph = patient_graphs.get('MB-0893')\n",
    "\n",
    "# Verificar si el grafo existe y obtener su label\n",
    "if patient_graph is not None:\n",
    "    # Asumiendo que el atributo 'label' ha sido previamente asignado como mostramos en el código anterior\n",
    "    patient_label = patient_graph.graph.get('label', 'Label no definido')\n",
    "    print(f\"El label de cellularity para el paciente MB-0893 es: {patient_label}\")\n",
    "else:\n",
    "    print(\"No existe un grafo para el paciente MB-0893\")\n"
   ],
   "metadata": {
    "collapsed": false,
    "ExecuteTime": {
     "end_time": "2024-06-26T06:58:15.764304Z",
     "start_time": "2024-06-26T06:58:15.752589Z"
    }
   },
   "id": "4ec68b64828281ac"
  },
  {
   "cell_type": "code",
   "execution_count": null,
   "outputs": [],
   "source": [],
   "metadata": {
    "collapsed": false
   },
   "id": "2df9b6bed777b559"
  },
  {
   "cell_type": "code",
   "execution_count": 22,
   "outputs": [],
   "source": [
    "import torch\n",
    "from torch_geometric.data import Dataset, DataLoader\n",
    "\n",
    "class SimpleDataset(Dataset):\n",
    "    def __init__(self, data_list):\n",
    "        super(SimpleDataset, self).__init__()\n",
    "        self.data_list = data_list\n",
    "    \n",
    "    def len(self):\n",
    "        return len(self.data_list)\n",
    "    \n",
    "    def get(self, idx):\n",
    "        return self.data_list[idx]\n",
    "\n",
    "# Crear el dataset utilizando la lista de datos\n",
    "my_dataset = SimpleDataset(data_list)"
   ],
   "metadata": {
    "collapsed": false,
    "ExecuteTime": {
     "end_time": "2024-06-26T07:02:46.602558Z",
     "start_time": "2024-06-26T07:02:46.591251Z"
    }
   },
   "id": "a6071f417b629e27"
  },
  {
   "cell_type": "code",
   "execution_count": 23,
   "outputs": [
    {
     "name": "stdout",
     "output_type": "stream",
     "text": [
      "Dataset: SimpleDataset(404):\n",
      "Number of graphs: 404\n",
      "Number of features: 3\n",
      "Number of classes: 3\n",
      "Number of nodes: 319\n",
      "Number of edges: 1256\n",
      "Average node degree: 3.94\n",
      "Has isolated nodes: True\n",
      "Has self-loops: False\n",
      "Is undirected: True\n"
     ]
    },
    {
     "name": "stderr",
     "output_type": "stream",
     "text": [
      "/Users/medinils/opt/anaconda3/envs/owkin/lib/python3.11/site-packages/torch_geometric/deprecation.py:26: UserWarning: 'data.DataLoader' is deprecated, use 'loader.DataLoader' instead\n",
      "  warnings.warn(out)\n"
     ]
    }
   ],
   "source": [
    "# Usar DataLoader para manejar los datos en batches durante el entrenamiento\n",
    "loader = DataLoader(my_dataset, batch_size=32, shuffle=True)\n",
    "\n",
    "# Opcionalmente, imprimir detalles del dataset\n",
    "print(f'Dataset: {my_dataset}:')\n",
    "print(f'Number of graphs: {len(my_dataset)}')\n",
    "print(f'Number of features: {my_dataset[0].num_node_features}')\n",
    "print(f'Number of classes: {len(set([data.y.item() for data in my_dataset]))}')\n",
    "\n",
    "# Comprobar el primer grafo\n",
    "data = my_dataset[0]\n",
    "print(f'Number of nodes: {data.num_nodes}')\n",
    "print(f'Number of edges: {data.num_edges}')\n",
    "print(f'Average node degree: {data.num_edges / data.num_nodes:.2f}')\n",
    "print(f'Has isolated nodes: {data.has_isolated_nodes()}')\n",
    "print(f'Has self-loops: {data.has_self_loops()}')\n",
    "print(f'Is undirected: {data.is_undirected()}')"
   ],
   "metadata": {
    "collapsed": false,
    "ExecuteTime": {
     "end_time": "2024-06-26T07:02:52.989378Z",
     "start_time": "2024-06-26T07:02:52.935118Z"
    }
   },
   "id": "e2e2214d1bb1ba67"
  },
  {
   "cell_type": "code",
   "execution_count": 24,
   "outputs": [],
   "source": [
    "# Guardar el dataset en un archivo\n",
    "with open('/Users/medinils/Desktop/IMC_Spatial_predictions/graph/my_dataset.pkl', 'wb') as f:\n",
    "    pickle.dump(my_dataset, f)\n",
    "\n"
   ],
   "metadata": {
    "collapsed": false,
    "ExecuteTime": {
     "end_time": "2024-06-26T07:06:12.811122Z",
     "start_time": "2024-06-26T07:06:10.443933Z"
    }
   },
   "id": "cc1d34e45ba7a7ff"
  },
  {
   "cell_type": "code",
   "execution_count": 25,
   "outputs": [
    {
     "name": "stdout",
     "output_type": "stream",
     "text": [
      "Dataset ha sido cargado exitosamente.\n"
     ]
    }
   ],
   "source": [
    "# Cargar el dataset desde un archivo\n",
    "with open('/Users/medinils/Desktop/IMC_Spatial_predictions/graph/my_dataset.pkl', 'rb') as f:\n",
    "    loaded_dataset = pickle.load(f)\n",
    "\n",
    "print(\"Dataset ha sido cargado exitosamente.\")\n"
   ],
   "metadata": {
    "collapsed": false,
    "ExecuteTime": {
     "end_time": "2024-06-26T07:06:23.495686Z",
     "start_time": "2024-06-26T07:06:20.189808Z"
    }
   },
   "id": "dfe57b2bed7a980b"
  },
  {
   "cell_type": "code",
   "execution_count": null,
   "outputs": [],
   "source": [],
   "metadata": {
    "collapsed": false
   },
   "id": "57f9c4fc5872d3ef"
  }
 ],
 "metadata": {
  "kernelspec": {
   "display_name": "Python 3",
   "language": "python",
   "name": "python3"
  },
  "language_info": {
   "codemirror_mode": {
    "name": "ipython",
    "version": 2
   },
   "file_extension": ".py",
   "mimetype": "text/x-python",
   "name": "python",
   "nbconvert_exporter": "python",
   "pygments_lexer": "ipython2",
   "version": "2.7.6"
  }
 },
 "nbformat": 4,
 "nbformat_minor": 5
}
